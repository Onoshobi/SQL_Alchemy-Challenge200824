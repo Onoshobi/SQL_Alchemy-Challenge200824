{
 "cells": [
  {
   "cell_type": "code",
   "execution_count": 1,
   "metadata": {},
   "outputs": [],
   "source": [
    "%matplotlib inline\n",
    "from matplotlib import style\n",
    "style.use('fivethirtyeight')\n",
    "import matplotlib.pyplot as plt\n"
   ]
  },
  {
   "cell_type": "code",
   "execution_count": 2,
   "metadata": {},
   "outputs": [],
   "source": [
    "import numpy as np\n",
    "import pandas as pd\n",
    "import datetime as dt\n"
   ]
  },
  {
   "cell_type": "markdown",
   "metadata": {},
   "source": [
    "# Reflect Tables into SQLAlchemy ORM\n"
   ]
  },
  {
   "cell_type": "code",
   "execution_count": 3,
   "metadata": {},
   "outputs": [],
   "source": [
    "# Python SQL toolkit and Object Relational Mapper\n",
    "import sqlalchemy\n",
    "from sqlalchemy.ext.automap import automap_base\n",
    "from sqlalchemy.orm import Session\n",
    "from sqlalchemy import create_engine, func\n"
   ]
  },
  {
   "cell_type": "code",
   "execution_count": 4,
   "metadata": {},
   "outputs": [],
   "source": [
    "# Create engine using the `hawaii.sqlite` database file\n",
    "engine = create_engine(\"sqlite:///Resources/hawaii.sqlite\")\n"
   ]
  },
  {
   "cell_type": "code",
   "execution_count": 5,
   "metadata": {},
   "outputs": [
    {
     "data": {
      "text/plain": [
       "<sqlalchemy.engine.base.Connection at 0x13d8facf1a0>"
      ]
     },
     "execution_count": 5,
     "metadata": {},
     "output_type": "execute_result"
    }
   ],
   "source": [
    "#connection to the database hawaii.sqlite\n",
    "engine.connect()"
   ]
  },
  {
   "cell_type": "code",
   "execution_count": 6,
   "metadata": {},
   "outputs": [],
   "source": [
    "# Declare a Base using `automap_base()`\n",
    "\n",
    "Base = automap_base()\n",
    "# Use the Base class to reflect the database tables\n",
    "# reflect the tables\n",
    "Base.prepare(autoload_with=engine)\n",
    "\n"
   ]
  },
  {
   "cell_type": "code",
   "execution_count": 7,
   "metadata": {},
   "outputs": [
    {
     "name": "stdout",
     "output_type": "stream",
     "text": [
      "Classes found by automap_base: ['measurement', 'station']\n"
     ]
    }
   ],
   "source": [
    "# Print all of the classes mapped to the Base\n",
    "print(f\"Classes found by automap_base: {Base.classes.keys()}\")"
   ]
  },
  {
   "cell_type": "code",
   "execution_count": 8,
   "metadata": {},
   "outputs": [
    {
     "name": "stdout",
     "output_type": "stream",
     "text": [
      "<class 'sqlalchemy.ext.automap.measurement'> <class 'sqlalchemy.ext.automap.station'>\n"
     ]
    }
   ],
   "source": [
    "# Assign the measurement class to a variable called `Measurement` and\n",
    "Measurement = Base.classes.measurement\n",
    "# assign the station class to a variable called `Station`\n",
    "Station = Base.classes.station\n",
    "\n",
    "print(Measurement,Station)"
   ]
  },
  {
   "cell_type": "code",
   "execution_count": 9,
   "metadata": {},
   "outputs": [],
   "source": [
    "# Create a session\n",
    "session = Session(engine)"
   ]
  },
  {
   "cell_type": "markdown",
   "metadata": {},
   "source": [
    "# Exploratory Precipitation Analysis\n"
   ]
  },
  {
   "cell_type": "code",
   "execution_count": 10,
   "metadata": {},
   "outputs": [
    {
     "name": "stdout",
     "output_type": "stream",
     "text": [
      "The most recent date in the dataset is: 2017-08-23\n"
     ]
    }
   ],
   "source": [
    "# Find the most recent date in the data set.\n",
    "most_recent_date = session.query(func.max(Measurement.date)).scalar()\n",
    "print(f\"The most recent date in the dataset is: {most_recent_date}\")"
   ]
  },
  {
   "cell_type": "code",
   "execution_count": 12,
   "metadata": {},
   "outputs": [
    {
     "data": {
      "text/html": [
       "<div>\n",
       "<style scoped>\n",
       "    .dataframe tbody tr th:only-of-type {\n",
       "        vertical-align: middle;\n",
       "    }\n",
       "\n",
       "    .dataframe tbody tr th {\n",
       "        vertical-align: top;\n",
       "    }\n",
       "\n",
       "    .dataframe thead th {\n",
       "        text-align: right;\n",
       "    }\n",
       "</style>\n",
       "<table border=\"1\" class=\"dataframe\">\n",
       "  <thead>\n",
       "    <tr style=\"text-align: right;\">\n",
       "      <th></th>\n",
       "      <th>date</th>\n",
       "      <th>precipitation</th>\n",
       "    </tr>\n",
       "  </thead>\n",
       "  <tbody>\n",
       "    <tr>\n",
       "      <th>0</th>\n",
       "      <td>2016-08-23</td>\n",
       "      <td>0.0</td>\n",
       "    </tr>\n",
       "    <tr>\n",
       "      <th>1009</th>\n",
       "      <td>2016-08-23</td>\n",
       "      <td>NaN</td>\n",
       "    </tr>\n",
       "    <tr>\n",
       "      <th>1529</th>\n",
       "      <td>2016-08-23</td>\n",
       "      <td>45.5</td>\n",
       "    </tr>\n",
       "    <tr>\n",
       "      <th>704</th>\n",
       "      <td>2016-08-23</td>\n",
       "      <td>1.3</td>\n",
       "    </tr>\n",
       "    <tr>\n",
       "      <th>361</th>\n",
       "      <td>2016-08-23</td>\n",
       "      <td>3.8</td>\n",
       "    </tr>\n",
       "  </tbody>\n",
       "</table>\n",
       "</div>"
      ],
      "text/plain": [
       "           date  precipitation\n",
       "0    2016-08-23            0.0\n",
       "1009 2016-08-23            NaN\n",
       "1529 2016-08-23           45.5\n",
       "704  2016-08-23            1.3\n",
       "361  2016-08-23            3.8"
      ]
     },
     "execution_count": 12,
     "metadata": {},
     "output_type": "execute_result"
    }
   ],
   "source": [
    "# Design a query to retrieve the last 12 months of precipitation data and plot the results.\n",
    "one_year_ago = pd.to_datetime(most_recent_date) - pd.DateOffset(years=1)\n",
    "one_year_ago_str = one_year_ago.strftime('%Y-%m-%d')\n",
    "#print(f\"Date one year ago from the most recent date is: {one_year_ago_str}\")\n",
    "\n",
    "# Perform a query to retrieve the data and precipitation scores for the last 12 months\n",
    "precipitation_data = session.query(Measurement.date, Measurement.prcp).filter(Measurement.date >= one_year_ago_str).all()\n",
    "\n",
    "\n",
    "# Save the query results as a Pandas DataFrame. Explicitly set the column names\n",
    "precipitation_df = pd.DataFrame(precipitation_data, columns=['date', 'precipitation'])\n",
    "\n",
    "\n",
    "# Convert the date column to datetime format\n",
    "precipitation_df['date'] = pd.to_datetime(precipitation_df['date'])\n",
    "\n",
    "# Sort the dataframe by date\n",
    "\n",
    "precipitation_df = precipitation_df.sort_values('date')\n",
    "precipitation_df.head()\n",
    "\n",
    "\n"
   ]
  },
  {
   "cell_type": "code",
   "execution_count": 15,
   "metadata": {},
   "outputs": [
    {
     "data": {
      "image/png": "[encoded data removed]",
      "text/plain": [
       "<Figure size 1000x600 with 1 Axes>"
      ]
     },
     "metadata": {},
     "output_type": "display_data"
    }
   ],
   "source": [
    "# Plot the data using Pandas Plotting with Matplotlib\n",
    "plt.figure(figsize=(10, 6))\n",
    "plt.plot(precipitation_df['date'], precipitation_df['precipitation'], marker='o', linestyle='-', label='precipitation')\n",
    "plt.xlabel('Date')\n",
    "plt.ylabel('mm')\n",
    "plt.title('Precipitation in the Last 12 Months')\n",
    "plt.xticks(rotation=45)\n",
    "plt.legend()\n",
    "plt.tight_layout()\n",
    "plt.show()"
   ]
  },
  {
   "cell_type": "code",
   "execution_count": 16,
   "metadata": {},
   "outputs": [
    {
     "name": "stdout",
     "output_type": "stream",
     "text": [
      "count    2021.000000\n",
      "mean        4.505888\n",
      "std        11.713487\n",
      "min         0.000000\n",
      "25%         0.000000\n",
      "50%         0.500000\n",
      "75%         3.300000\n",
      "max       170.200000\n",
      "Name: precipitation, dtype: float64\n"
     ]
    }
   ],
   "source": [
    "# Use Pandas to calculate the summary statistics for the precipitation data\n",
    "\n",
    "summary_stats = precipitation_df['precipitation'].describe()\n",
    "print(summary_stats)"
   ]
  },
  {
   "cell_type": "markdown",
   "metadata": {},
   "source": [
    "# Exploratory Station Analysis\n"
   ]
  },
  {
   "cell_type": "code",
   "execution_count": 18,
   "metadata": {},
   "outputs": [
    {
     "name": "stdout",
     "output_type": "stream",
     "text": [
      "Number of rows in the stations are :  9\n"
     ]
    }
   ],
   "source": [
    "# Design a query to calculate the total number of stations in the dataset\n",
    "\n",
    "rows = session.query(func.count(Station.id)).scalar()\n",
    "print(\"Number of rows in the stations are : \", rows)"
   ]
  },
  {
   "cell_type": "code",
   "execution_count": 19,
   "metadata": {},
   "outputs": [
    {
     "name": "stdout",
     "output_type": "stream",
     "text": [
      "       station  Number of Rows\n",
      "6  USC00519281            2772\n",
      "0  USC00519397            2724\n",
      "1  USC00513117            2709\n",
      "5  USC00519523            2669\n",
      "8  USC00516128            2612\n",
      "2  USC00514830            2202\n",
      "7  USC00511918            1979\n",
      "3  USC00517948            1372\n",
      "4  USC00518838             511\n"
     ]
    }
   ],
   "source": [
    "# Design a query to find the most active stations (i.e. which stations have the most rows?)\n",
    "\n",
    "#creating the list to store total number of rows in  each station \n",
    "station_name_rows_list = []\n",
    "#Here we are using station as primary key from Station table to find the matching relationship with the Measurement Table\n",
    "\n",
    "#Getting all the station\n",
    "for each_station in session.query(Station).all():\n",
    "    #printing all the variables from each station\n",
    "    #print(vars(each_station))\n",
    "    #getting station name for each station\n",
    "    #print(each_station.station)\n",
    "\n",
    "\n",
    "    matched_measurements = session.query(Measurement).filter(Measurement.station == each_station.station).all()\n",
    "    station_name_rows_list.append((each_station.station, len(matched_measurements)))\n",
    "\n",
    "    \n",
    "#print(station_name_rows_list)\n",
    "\n",
    "\n",
    "\n",
    "# List the stations and their counts in descending order.\n",
    "\n",
    "#Now creating the dataframe    \n",
    "station_name_rows_dataframe = pd.DataFrame(station_name_rows_list,columns=(\"station\",\"Number of Rows\"))\n",
    "sorted_station_name_rows_dataframe = station_name_rows_dataframe.sort_values(\"Number of Rows\",ascending=False)\n",
    "print(sorted_station_name_rows_dataframe)"
   ]
  },
  {
   "cell_type": "code",
   "execution_count": 20,
   "metadata": {},
   "outputs": [
    {
     "name": "stdout",
     "output_type": "stream",
     "text": [
      "Highest temperature of the most active station is  29.4\n",
      "Lowest temperature of the most active station is  12.2\n",
      "Average temperature of the most active station is  22.035822510822513\n"
     ]
    }
   ],
   "source": [
    "# Using the most active station id from the previous query, calculate the lowest, highest, and average temperature.\n",
    "#Getting the first row\n",
    "most_active_station = sorted_station_name_rows_dataframe.station.iloc[0]\n",
    "#print((most_active_station))\n",
    "\n",
    "\n",
    "most_active_station_temp_df= pd.DataFrame(session.query(Measurement.tobs).filter(Measurement.station == most_active_station).all())\n",
    "#print(most_active_station_temp_df)\n",
    "print(\"Highest temperature of the most active station is \",most_active_station_temp_df.max().tobs)\n",
    "print(\"Lowest temperature of the most active station is \",most_active_station_temp_df.min().tobs)\n",
    "print(\"Average temperature of the most active station is \",most_active_station_temp_df.mean().tobs)\n"
   ]
  },
  {
   "cell_type": "code",
   "execution_count": 21,
   "metadata": {},
   "outputs": [],
   "source": [
    "#one_year_ago = pd.to_datetime(most_recent_date) - pd.DateOffset(years=1)\n",
    "#one_year_ago_str = one_year_ago.strftime('%Y-%m-%d')\n",
    "#print(f\"Date one year ago from the most recent date is: {one_year_ago_str}\")\n",
    "\n",
    "# Perform a query to retrieve 12 months of temperature observation data for most active station and plot the results as a histogram\n",
    "temperature_data_for_most_active_station_12_months = session.query(Measurement.date,Measurement.tobs).filter((Measurement.station==most_active_station) & (Measurement.date >= one_year_ago_str)).all()\n",
    "most_active_station_temp_12_months_df = pd.DataFrame(temperature_data_for_most_active_station_12_months,columns=('Date','Temp'))\n",
    "#print(most_active_station_temp_12_months_df.head())\n"
   ]
  },
  {
   "cell_type": "code",
   "execution_count": 26,
   "metadata": {},
   "outputs": [
    {
     "data": {
      "image/png": "[encoded data removed]",
      "text/plain": [
       "<Figure size 640x480 with 1 Axes>"
      ]
     },
     "metadata": {},
     "output_type": "display_data"
    }
   ],
   "source": [
    "# Using the most active station id\n",
    "# Query the last 12 months of temperature observation data for this station and plot the results as a histogram\n",
    "plt.hist(most_active_station_temp_12_months_df[\"Temp\"],bins=12)\n",
    "plt.xlabel('Temperature')\n",
    "plt.ylabel('Frequency')\n",
    "plt.legend(['tobs'])\n",
    "plt.tight_layout()\n",
    "plt.show()"
   ]
  },
  {
   "cell_type": "markdown",
   "metadata": {},
   "source": [
    "# Close Session\n"
   ]
  },
  {
   "cell_type": "code",
   "execution_count": 24,
   "metadata": {},
   "outputs": [],
   "source": [
    "# Close Session\n",
    "session.close()\n"
   ]
  },
  {
   "cell_type": "code",
   "execution_count": null,
   "metadata": {},
   "outputs": [],
   "source": []
  }
 ],
 "metadata": {
  "anaconda-cloud": {},
  "kernel_info": {
   "name": "python3"
  },
  "kernelspec": {
   "display_name": "Python 3 (ipykernel)",
   "language": "python",
   "name": "python3"
  },
  "language_info": {
   "codemirror_mode": {
    "name": "ipython",
    "version": 3
   },
   "file_extension": ".py",
   "mimetype": "text/x-python",
   "name": "python",
   "nbconvert_exporter": "python",
   "pygments_lexer": "ipython3",
   "version": "3.12.4"
  },
  "nteract": {
   "version": "0.12.3"
  },
  "varInspector": {
   "cols": {
    "lenName": 16,
    "lenType": 16,
    "lenVar": 40
   },
   "kernels_config": {
    "python": {
     "delete_cmd_postfix": "",
     "delete_cmd_prefix": "del ",
     "library": "var_list.py",
     "varRefreshCmd": "print(var_dic_list())"
    },
    "r": {
     "delete_cmd_postfix": ") ",
     "delete_cmd_prefix": "rm(",
     "library": "var_list.r",
     "varRefreshCmd": "cat(var_dic_list()) "
    }
   },
   "types_to_exclude": [
    "module",
    "function",
    "builtin_function_or_method",
    "instance",
    "_Feature"
   ],
   "window_display": false
  }
 },
 "nbformat": 4,
 "nbformat_minor": 2
}
